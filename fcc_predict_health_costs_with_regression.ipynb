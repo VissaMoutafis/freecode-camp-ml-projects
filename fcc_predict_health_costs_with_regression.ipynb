{
  "nbformat": 4,
  "nbformat_minor": 0,
  "metadata": {
    "colab": {
      "name": "fcc_predict_health_costs_with_regression.ipynb",
      "provenance": [],
      "collapsed_sections": [],
      "toc_visible": true
    },
    "kernelspec": {
      "display_name": "Python 3",
      "name": "python3"
    }
  },
  "cells": [
    {
      "cell_type": "markdown",
      "metadata": {
        "id": "M9TX15KOkPBV"
      },
      "source": [
        "*Note: You are currently reading this using Google Colaboratory which is a cloud-hosted version of Jupyter Notebook. This is a document containing both text cells for documentation and runnable code cells. If you are unfamiliar with Jupyter Notebook, watch this 3-minute introduction before starting this challenge: https://www.youtube.com/watch?v=inN8seMm7UI*\n",
        "\n",
        "---\n",
        "\n",
        "In this challenge, you will predict healthcare costs using a regression algorithm.\n",
        "\n",
        "You are given a dataset that contains information about different people including their healthcare costs. Use the data to predict healthcare costs based on new data.\n",
        "\n",
        "The first two cells of this notebook import libraries and the data.\n",
        "\n",
        "Make sure to convert categorical data to numbers. Use 80% of the data as the `train_dataset` and 20% of the data as the `test_dataset`.\n",
        "\n",
        "`pop` off the \"expenses\" column from these datasets to create new datasets called `train_labels` and `test_labels`. Use these labels when training your model.\n",
        "\n",
        "Create a model and train it with the `train_dataset`. Run the final cell in this notebook to check your model. The final cell will use the unseen `test_dataset` to check how well the model generalizes.\n",
        "\n",
        "To pass the challenge, `model.evaluate` must return a Mean Absolute Error of under 3500. This means it predicts health care costs correctly within $3500.\n",
        "\n",
        "The final cell will also predict expenses using the `test_dataset` and graph the results."
      ]
    },
    {
      "cell_type": "code",
      "metadata": {
        "id": "1rRo8oNqZ-Rj"
      },
      "source": [
        "# Import libraries. You may or may not use all of these.\n",
        "!pip install -q git+https://github.com/tensorflow/docs\n",
        "import matplotlib.pyplot as plt\n",
        "import numpy as np\n",
        "import pandas as pd\n",
        "\n",
        "try:\n",
        "  # %tensorflow_version only exists in Colab.\n",
        "  %tensorflow_version 2.x\n",
        "except Exception:\n",
        "  pass\n",
        "import tensorflow as tf\n",
        "\n",
        "from tensorflow import keras\n",
        "from tensorflow.keras import layers\n",
        "\n",
        "import tensorflow_docs as tfdocs\n",
        "import tensorflow_docs.plots\n",
        "import tensorflow_docs.modeling"
      ],
      "execution_count": null,
      "outputs": []
    },
    {
      "cell_type": "code",
      "metadata": {
        "id": "CiX2FI4gZtTt",
        "colab": {
          "base_uri": "https://localhost:8080/",
          "height": 397
        },
        "outputId": "7fea2724-05e6-41fa-c732-b8bfae6c5ba7"
      },
      "source": [
        "# Import data\n",
        "!wget https://cdn.freecodecamp.org/project-data/health-costs/insurance.csv\n",
        "dataset = pd.read_csv('insurance.csv')\n",
        "dataset.tail()"
      ],
      "execution_count": null,
      "outputs": [
        {
          "output_type": "stream",
          "name": "stdout",
          "text": [
            "--2022-01-26 15:41:50--  https://cdn.freecodecamp.org/project-data/health-costs/insurance.csv\n",
            "Resolving cdn.freecodecamp.org (cdn.freecodecamp.org)... 104.26.3.33, 172.67.70.149, 104.26.2.33, ...\n",
            "Connecting to cdn.freecodecamp.org (cdn.freecodecamp.org)|104.26.3.33|:443... connected.\n",
            "HTTP request sent, awaiting response... 200 OK\n",
            "Length: 50264 (49K) [text/csv]\n",
            "Saving to: ‘insurance.csv.4’\n",
            "\n",
            "\rinsurance.csv.4       0%[                    ]       0  --.-KB/s               \rinsurance.csv.4     100%[===================>]  49.09K  --.-KB/s    in 0.001s  \n",
            "\n",
            "2022-01-26 15:41:50 (79.9 MB/s) - ‘insurance.csv.4’ saved [50264/50264]\n",
            "\n"
          ]
        },
        {
          "output_type": "execute_result",
          "data": {
            "text/html": [
              "\n",
              "  <div id=\"df-45a5b930-a772-475d-9664-c9e724841571\">\n",
              "    <div class=\"colab-df-container\">\n",
              "      <div>\n",
              "<style scoped>\n",
              "    .dataframe tbody tr th:only-of-type {\n",
              "        vertical-align: middle;\n",
              "    }\n",
              "\n",
              "    .dataframe tbody tr th {\n",
              "        vertical-align: top;\n",
              "    }\n",
              "\n",
              "    .dataframe thead th {\n",
              "        text-align: right;\n",
              "    }\n",
              "</style>\n",
              "<table border=\"1\" class=\"dataframe\">\n",
              "  <thead>\n",
              "    <tr style=\"text-align: right;\">\n",
              "      <th></th>\n",
              "      <th>age</th>\n",
              "      <th>sex</th>\n",
              "      <th>bmi</th>\n",
              "      <th>children</th>\n",
              "      <th>smoker</th>\n",
              "      <th>region</th>\n",
              "      <th>expenses</th>\n",
              "    </tr>\n",
              "  </thead>\n",
              "  <tbody>\n",
              "    <tr>\n",
              "      <th>1333</th>\n",
              "      <td>50</td>\n",
              "      <td>male</td>\n",
              "      <td>31.0</td>\n",
              "      <td>3</td>\n",
              "      <td>no</td>\n",
              "      <td>northwest</td>\n",
              "      <td>10600.55</td>\n",
              "    </tr>\n",
              "    <tr>\n",
              "      <th>1334</th>\n",
              "      <td>18</td>\n",
              "      <td>female</td>\n",
              "      <td>31.9</td>\n",
              "      <td>0</td>\n",
              "      <td>no</td>\n",
              "      <td>northeast</td>\n",
              "      <td>2205.98</td>\n",
              "    </tr>\n",
              "    <tr>\n",
              "      <th>1335</th>\n",
              "      <td>18</td>\n",
              "      <td>female</td>\n",
              "      <td>36.9</td>\n",
              "      <td>0</td>\n",
              "      <td>no</td>\n",
              "      <td>southeast</td>\n",
              "      <td>1629.83</td>\n",
              "    </tr>\n",
              "    <tr>\n",
              "      <th>1336</th>\n",
              "      <td>21</td>\n",
              "      <td>female</td>\n",
              "      <td>25.8</td>\n",
              "      <td>0</td>\n",
              "      <td>no</td>\n",
              "      <td>southwest</td>\n",
              "      <td>2007.95</td>\n",
              "    </tr>\n",
              "    <tr>\n",
              "      <th>1337</th>\n",
              "      <td>61</td>\n",
              "      <td>female</td>\n",
              "      <td>29.1</td>\n",
              "      <td>0</td>\n",
              "      <td>yes</td>\n",
              "      <td>northwest</td>\n",
              "      <td>29141.36</td>\n",
              "    </tr>\n",
              "  </tbody>\n",
              "</table>\n",
              "</div>\n",
              "      <button class=\"colab-df-convert\" onclick=\"convertToInteractive('df-45a5b930-a772-475d-9664-c9e724841571')\"\n",
              "              title=\"Convert this dataframe to an interactive table.\"\n",
              "              style=\"display:none;\">\n",
              "        \n",
              "  <svg xmlns=\"http://www.w3.org/2000/svg\" height=\"24px\"viewBox=\"0 0 24 24\"\n",
              "       width=\"24px\">\n",
              "    <path d=\"M0 0h24v24H0V0z\" fill=\"none\"/>\n",
              "    <path d=\"M18.56 5.44l.94 2.06.94-2.06 2.06-.94-2.06-.94-.94-2.06-.94 2.06-2.06.94zm-11 1L8.5 8.5l.94-2.06 2.06-.94-2.06-.94L8.5 2.5l-.94 2.06-2.06.94zm10 10l.94 2.06.94-2.06 2.06-.94-2.06-.94-.94-2.06-.94 2.06-2.06.94z\"/><path d=\"M17.41 7.96l-1.37-1.37c-.4-.4-.92-.59-1.43-.59-.52 0-1.04.2-1.43.59L10.3 9.45l-7.72 7.72c-.78.78-.78 2.05 0 2.83L4 21.41c.39.39.9.59 1.41.59.51 0 1.02-.2 1.41-.59l7.78-7.78 2.81-2.81c.8-.78.8-2.07 0-2.86zM5.41 20L4 18.59l7.72-7.72 1.47 1.35L5.41 20z\"/>\n",
              "  </svg>\n",
              "      </button>\n",
              "      \n",
              "  <style>\n",
              "    .colab-df-container {\n",
              "      display:flex;\n",
              "      flex-wrap:wrap;\n",
              "      gap: 12px;\n",
              "    }\n",
              "\n",
              "    .colab-df-convert {\n",
              "      background-color: #E8F0FE;\n",
              "      border: none;\n",
              "      border-radius: 50%;\n",
              "      cursor: pointer;\n",
              "      display: none;\n",
              "      fill: #1967D2;\n",
              "      height: 32px;\n",
              "      padding: 0 0 0 0;\n",
              "      width: 32px;\n",
              "    }\n",
              "\n",
              "    .colab-df-convert:hover {\n",
              "      background-color: #E2EBFA;\n",
              "      box-shadow: 0px 1px 2px rgba(60, 64, 67, 0.3), 0px 1px 3px 1px rgba(60, 64, 67, 0.15);\n",
              "      fill: #174EA6;\n",
              "    }\n",
              "\n",
              "    [theme=dark] .colab-df-convert {\n",
              "      background-color: #3B4455;\n",
              "      fill: #D2E3FC;\n",
              "    }\n",
              "\n",
              "    [theme=dark] .colab-df-convert:hover {\n",
              "      background-color: #434B5C;\n",
              "      box-shadow: 0px 1px 3px 1px rgba(0, 0, 0, 0.15);\n",
              "      filter: drop-shadow(0px 1px 2px rgba(0, 0, 0, 0.3));\n",
              "      fill: #FFFFFF;\n",
              "    }\n",
              "  </style>\n",
              "\n",
              "      <script>\n",
              "        const buttonEl =\n",
              "          document.querySelector('#df-45a5b930-a772-475d-9664-c9e724841571 button.colab-df-convert');\n",
              "        buttonEl.style.display =\n",
              "          google.colab.kernel.accessAllowed ? 'block' : 'none';\n",
              "\n",
              "        async function convertToInteractive(key) {\n",
              "          const element = document.querySelector('#df-45a5b930-a772-475d-9664-c9e724841571');\n",
              "          const dataTable =\n",
              "            await google.colab.kernel.invokeFunction('convertToInteractive',\n",
              "                                                     [key], {});\n",
              "          if (!dataTable) return;\n",
              "\n",
              "          const docLinkHtml = 'Like what you see? Visit the ' +\n",
              "            '<a target=\"_blank\" href=https://colab.research.google.com/notebooks/data_table.ipynb>data table notebook</a>'\n",
              "            + ' to learn more about interactive tables.';\n",
              "          element.innerHTML = '';\n",
              "          dataTable['output_type'] = 'display_data';\n",
              "          await google.colab.output.renderOutput(dataTable, element);\n",
              "          const docLink = document.createElement('div');\n",
              "          docLink.innerHTML = docLinkHtml;\n",
              "          element.appendChild(docLink);\n",
              "        }\n",
              "      </script>\n",
              "    </div>\n",
              "  </div>\n",
              "  "
            ],
            "text/plain": [
              "      age     sex   bmi  children smoker     region  expenses\n",
              "1333   50    male  31.0         3     no  northwest  10600.55\n",
              "1334   18  female  31.9         0     no  northeast   2205.98\n",
              "1335   18  female  36.9         0     no  southeast   1629.83\n",
              "1336   21  female  25.8         0     no  southwest   2007.95\n",
              "1337   61  female  29.1         0    yes  northwest  29141.36"
            ]
          },
          "metadata": {},
          "execution_count": 49
        }
      ]
    },
    {
      "cell_type": "code",
      "metadata": {
        "id": "LcopvQh3X-kX"
      },
      "source": [
        "y = dataset.pop('expenses')"
      ],
      "execution_count": null,
      "outputs": []
    },
    {
      "cell_type": "code",
      "source": [
        "cols = dataset.columns\n",
        "num_cols = dataset._get_numeric_data().columns\n",
        "cat_cols = list(set(cols) - set(num_cols))"
      ],
      "metadata": {
        "id": "NyPE_G1nAgFH"
      },
      "execution_count": null,
      "outputs": []
    },
    {
      "cell_type": "code",
      "source": [
        "# normalize numeric features\n",
        "for col in num_cols:\n",
        "  dataset[col] = (dataset[col] - dataset[col].min()) / (dataset[col].max() - dataset[col].min())"
      ],
      "metadata": {
        "id": "G1rLThUfAuYi"
      },
      "execution_count": null,
      "outputs": []
    },
    {
      "cell_type": "code",
      "source": [
        "dataset[cat_cols] = dataset[cat_cols].astype('category')"
      ],
      "metadata": {
        "id": "RiOZ7H4WBArS"
      },
      "execution_count": null,
      "outputs": []
    },
    {
      "cell_type": "code",
      "source": [
        "for col in cat_cols:\n",
        "  labels = dataset[col].cat.categories\n",
        "  for label in labels:\n",
        "    dataset[col + '_' + label] = dataset[col].str.contains(label).astype(np.int8)\n",
        "  dataset.pop(col)"
      ],
      "metadata": {
        "id": "pejccEz3A7ud"
      },
      "execution_count": null,
      "outputs": []
    },
    {
      "cell_type": "code",
      "source": [
        "from sklearn.model_selection import train_test_split\n",
        "train_dataset, test_dataset, train_labels, test_labels = train_test_split(dataset.to_numpy(), y.to_numpy()) "
      ],
      "metadata": {
        "id": "-DB6375NBjgY"
      },
      "execution_count": null,
      "outputs": []
    },
    {
      "cell_type": "code",
      "source": [
        "y"
      ],
      "metadata": {
        "colab": {
          "base_uri": "https://localhost:8080/"
        },
        "id": "DM4njSAGDCAr",
        "outputId": "b956568b-a683-4304-8e8a-f60a116f643e"
      },
      "execution_count": null,
      "outputs": [
        {
          "output_type": "execute_result",
          "data": {
            "text/plain": [
              "0       16884.92\n",
              "1        1725.55\n",
              "2        4449.46\n",
              "3       21984.47\n",
              "4        3866.86\n",
              "          ...   \n",
              "1333    10600.55\n",
              "1334     2205.98\n",
              "1335     1629.83\n",
              "1336     2007.95\n",
              "1337    29141.36\n",
              "Name: expenses, Length: 1338, dtype: float64"
            ]
          },
          "metadata": {},
          "execution_count": 56
        }
      ]
    },
    {
      "cell_type": "markdown",
      "source": [
        "## Linear Regression model"
      ],
      "metadata": {
        "id": "OtURbwrIBdxk"
      }
    },
    {
      "cell_type": "code",
      "source": [
        "i = layers.Input((train_dataset.shape[1],))\n",
        "x = layers.BatchNormalization()(i)\n",
        "x = layers.Dense(1)(x)\n",
        "model = tf.keras.models.Model(name='Linear-Regression', inputs=i, outputs=x)\n",
        "\n",
        "model.compile(optimizer='sgd', loss = 'mae', metrics=['mae', 'mse'])"
      ],
      "metadata": {
        "id": "E_OT2_ALBY6u"
      },
      "execution_count": null,
      "outputs": []
    },
    {
      "cell_type": "code",
      "source": [
        "r = model.fit(train_dataset, train_labels, validation_split=0.2, epochs=100)"
      ],
      "metadata": {
        "colab": {
          "base_uri": "https://localhost:8080/"
        },
        "id": "VrAop2J3CCuU",
        "outputId": "0a0f668e-eb4f-417a-8bf3-869d5fffc9c1"
      },
      "execution_count": null,
      "outputs": [
        {
          "output_type": "stream",
          "name": "stdout",
          "text": [
            "Epoch 1/100\n",
            "26/26 [==============================] - 1s 9ms/step - loss: 13587.4014 - mae: 13587.4014 - mse: 339974912.0000 - val_loss: 12938.5625 - val_mae: 12938.5625 - val_mse: 289316704.0000\n",
            "Epoch 2/100\n",
            "26/26 [==============================] - 0s 3ms/step - loss: 13586.6943 - mae: 13586.6943 - mse: 339956480.0000 - val_loss: 12937.8242 - val_mae: 12937.8242 - val_mse: 289298560.0000\n",
            "Epoch 3/100\n",
            "26/26 [==============================] - 0s 3ms/step - loss: 13585.8154 - mae: 13585.8154 - mse: 339933920.0000 - val_loss: 12936.8018 - val_mae: 12936.8018 - val_mse: 289273568.0000\n",
            "Epoch 4/100\n",
            "26/26 [==============================] - 0s 3ms/step - loss: 13584.5938 - mae: 13584.5938 - mse: 339902976.0000 - val_loss: 12935.2832 - val_mae: 12935.2832 - val_mse: 289236480.0000\n",
            "Epoch 5/100\n",
            "26/26 [==============================] - 0s 3ms/step - loss: 13582.7686 - mae: 13582.7686 - mse: 339855264.0000 - val_loss: 12932.9531 - val_mae: 12932.9531 - val_mse: 289179232.0000\n",
            "Epoch 6/100\n",
            "26/26 [==============================] - 0s 3ms/step - loss: 13579.9092 - mae: 13579.9092 - mse: 339780640.0000 - val_loss: 12929.2773 - val_mae: 12929.2773 - val_mse: 289088480.0000\n",
            "Epoch 7/100\n",
            "26/26 [==============================] - 0s 3ms/step - loss: 13575.3066 - mae: 13575.3066 - mse: 339661696.0000 - val_loss: 12923.3242 - val_mae: 12923.3242 - val_mse: 288940384.0000\n",
            "Epoch 8/100\n",
            "26/26 [==============================] - 0s 3ms/step - loss: 13567.7695 - mae: 13567.7695 - mse: 339467648.0000 - val_loss: 12913.5137 - val_mae: 12913.5137 - val_mse: 288694752.0000\n",
            "Epoch 9/100\n",
            "26/26 [==============================] - 0s 2ms/step - loss: 13555.3057 - mae: 13555.3057 - mse: 339134304.0000 - val_loss: 12897.3223 - val_mae: 12897.3223 - val_mse: 288287296.0000\n",
            "Epoch 10/100\n",
            "26/26 [==============================] - 0s 3ms/step - loss: 13534.5723 - mae: 13534.5723 - mse: 338586304.0000 - val_loss: 12870.3350 - val_mae: 12870.3350 - val_mse: 287605600.0000\n",
            "Epoch 11/100\n",
            "26/26 [==============================] - 0s 3ms/step - loss: 13499.9688 - mae: 13499.9688 - mse: 337660096.0000 - val_loss: 12825.2227 - val_mae: 12825.2227 - val_mse: 286464448.0000\n",
            "Epoch 12/100\n",
            "26/26 [==============================] - 0s 3ms/step - loss: 13442.0898 - mae: 13442.0898 - mse: 336098688.0000 - val_loss: 12749.6631 - val_mae: 12749.6631 - val_mse: 284554912.0000\n",
            "Epoch 13/100\n",
            "26/26 [==============================] - 0s 2ms/step - loss: 13345.1709 - mae: 13345.1709 - mse: 333570368.0000 - val_loss: 12623.1553 - val_mae: 12623.1553 - val_mse: 281374848.0000\n",
            "Epoch 14/100\n",
            "26/26 [==============================] - 0s 3ms/step - loss: 13182.7402 - mae: 13182.7402 - mse: 329246816.0000 - val_loss: 12411.0859 - val_mae: 12411.0859 - val_mse: 276105408.0000\n",
            "Epoch 15/100\n",
            "26/26 [==============================] - 0s 3ms/step - loss: 12910.4102 - mae: 12910.4102 - mse: 322116064.0000 - val_loss: 12055.3516 - val_mae: 12055.3516 - val_mse: 267451232.0000\n",
            "Epoch 16/100\n",
            "26/26 [==============================] - 0s 3ms/step - loss: 12456.4785 - mae: 12456.4785 - mse: 310887104.0000 - val_loss: 11477.2627 - val_mae: 11477.2627 - val_mse: 253699584.0000\n",
            "Epoch 17/100\n",
            "26/26 [==============================] - 0s 2ms/step - loss: 11788.4297 - mae: 11788.4297 - mse: 293209664.0000 - val_loss: 10719.4873 - val_mae: 10719.4873 - val_mse: 234722032.0000\n",
            "Epoch 18/100\n",
            "26/26 [==============================] - 0s 3ms/step - loss: 11012.6729 - mae: 11012.6729 - mse: 271819200.0000 - val_loss: 9937.4053 - val_mae: 9937.4053 - val_mse: 213581024.0000\n",
            "Epoch 19/100\n",
            "26/26 [==============================] - 0s 2ms/step - loss: 10263.2578 - mae: 10263.2578 - mse: 248152288.0000 - val_loss: 9135.4902 - val_mae: 9135.4902 - val_mse: 190425968.0000\n",
            "Epoch 20/100\n",
            "26/26 [==============================] - 0s 3ms/step - loss: 9559.8887 - mae: 9559.8887 - mse: 224041632.0000 - val_loss: 8478.0234 - val_mae: 8478.0234 - val_mse: 170687968.0000\n",
            "Epoch 21/100\n",
            "26/26 [==============================] - 0s 3ms/step - loss: 9052.3320 - mae: 9052.3320 - mse: 203583664.0000 - val_loss: 7951.6060 - val_mae: 7951.6060 - val_mse: 153060208.0000\n",
            "Epoch 22/100\n",
            "26/26 [==============================] - 0s 3ms/step - loss: 8669.2510 - mae: 8669.2510 - mse: 186409184.0000 - val_loss: 7655.5400 - val_mae: 7655.5400 - val_mse: 141071904.0000\n",
            "Epoch 23/100\n",
            "26/26 [==============================] - 0s 3ms/step - loss: 8414.3408 - mae: 8414.3408 - mse: 173114320.0000 - val_loss: 7414.3975 - val_mae: 7414.3975 - val_mse: 129712024.0000\n",
            "Epoch 24/100\n",
            "26/26 [==============================] - 0s 3ms/step - loss: 8195.7607 - mae: 8195.7607 - mse: 162163232.0000 - val_loss: 7227.1611 - val_mae: 7227.1611 - val_mse: 121547864.0000\n",
            "Epoch 25/100\n",
            "26/26 [==============================] - 0s 3ms/step - loss: 7999.0039 - mae: 7999.0039 - mse: 151975040.0000 - val_loss: 7020.1699 - val_mae: 7020.1699 - val_mse: 113757640.0000\n",
            "Epoch 26/100\n",
            "26/26 [==============================] - 0s 3ms/step - loss: 7766.7744 - mae: 7766.7744 - mse: 143087200.0000 - val_loss: 6781.2930 - val_mae: 6781.2930 - val_mse: 105638592.0000\n",
            "Epoch 27/100\n",
            "26/26 [==============================] - 0s 2ms/step - loss: 7480.6211 - mae: 7480.6211 - mse: 133302152.0000 - val_loss: 6487.7954 - val_mae: 6487.7954 - val_mse: 98188520.0000\n",
            "Epoch 28/100\n",
            "26/26 [==============================] - 0s 3ms/step - loss: 7162.3379 - mae: 7162.3379 - mse: 124484224.0000 - val_loss: 6126.2275 - val_mae: 6126.2275 - val_mse: 89267704.0000\n",
            "Epoch 29/100\n",
            "26/26 [==============================] - 0s 3ms/step - loss: 6761.0762 - mae: 6761.0762 - mse: 113060104.0000 - val_loss: 5679.6543 - val_mae: 5679.6543 - val_mse: 79191760.0000\n",
            "Epoch 30/100\n",
            "26/26 [==============================] - 0s 3ms/step - loss: 6228.9287 - mae: 6228.9287 - mse: 99344800.0000 - val_loss: 5138.6436 - val_mae: 5138.6436 - val_mse: 68237104.0000\n",
            "Epoch 31/100\n",
            "26/26 [==============================] - 0s 3ms/step - loss: 5805.5972 - mae: 5805.5972 - mse: 88451720.0000 - val_loss: 4613.1050 - val_mae: 4613.1050 - val_mse: 57403292.0000\n",
            "Epoch 32/100\n",
            "26/26 [==============================] - 0s 3ms/step - loss: 5510.3711 - mae: 5510.3711 - mse: 83070088.0000 - val_loss: 4160.3154 - val_mae: 4160.3154 - val_mse: 52802340.0000\n",
            "Epoch 33/100\n",
            "26/26 [==============================] - 0s 3ms/step - loss: 4837.6396 - mae: 4837.6396 - mse: 70890616.0000 - val_loss: 3680.8315 - val_mae: 3680.8315 - val_mse: 46152056.0000\n",
            "Epoch 34/100\n",
            "26/26 [==============================] - 0s 2ms/step - loss: 4301.8755 - mae: 4301.8755 - mse: 63292088.0000 - val_loss: 3401.0212 - val_mae: 3401.0212 - val_mse: 44175436.0000\n",
            "Epoch 35/100\n",
            "26/26 [==============================] - 0s 3ms/step - loss: 4141.5195 - mae: 4141.5195 - mse: 59187260.0000 - val_loss: 3353.9304 - val_mae: 3353.9304 - val_mse: 43110776.0000\n",
            "Epoch 36/100\n",
            "26/26 [==============================] - 0s 3ms/step - loss: 4324.4976 - mae: 4324.4976 - mse: 62908120.0000 - val_loss: 3426.5737 - val_mae: 3426.5737 - val_mse: 39436004.0000\n",
            "Epoch 37/100\n",
            "26/26 [==============================] - 0s 3ms/step - loss: 4191.1968 - mae: 4191.1968 - mse: 56156016.0000 - val_loss: 3328.2178 - val_mae: 3328.2178 - val_mse: 40186696.0000\n",
            "Epoch 38/100\n",
            "26/26 [==============================] - 0s 3ms/step - loss: 4226.2334 - mae: 4226.2334 - mse: 56509416.0000 - val_loss: 3359.0591 - val_mae: 3359.0591 - val_mse: 38453088.0000\n",
            "Epoch 39/100\n",
            "26/26 [==============================] - 0s 3ms/step - loss: 4252.6367 - mae: 4252.6367 - mse: 55070072.0000 - val_loss: 3322.8215 - val_mae: 3322.8215 - val_mse: 39856244.0000\n",
            "Epoch 40/100\n",
            "26/26 [==============================] - 0s 3ms/step - loss: 4281.8779 - mae: 4281.8779 - mse: 57492644.0000 - val_loss: 3327.7178 - val_mae: 3327.7178 - val_mse: 38551408.0000\n",
            "Epoch 41/100\n",
            "26/26 [==============================] - 0s 3ms/step - loss: 4312.1260 - mae: 4312.1260 - mse: 55002300.0000 - val_loss: 3311.9207 - val_mae: 3311.9207 - val_mse: 38013976.0000\n",
            "Epoch 42/100\n",
            "26/26 [==============================] - 0s 3ms/step - loss: 4117.2964 - mae: 4117.2964 - mse: 54305740.0000 - val_loss: 3315.0054 - val_mae: 3315.0054 - val_mse: 38080148.0000\n",
            "Epoch 43/100\n",
            "26/26 [==============================] - 0s 3ms/step - loss: 4513.5952 - mae: 4513.5952 - mse: 59160888.0000 - val_loss: 3306.8162 - val_mae: 3306.8162 - val_mse: 38062868.0000\n",
            "Epoch 44/100\n",
            "26/26 [==============================] - 0s 3ms/step - loss: 4234.7778 - mae: 4234.7778 - mse: 54752392.0000 - val_loss: 3305.8674 - val_mae: 3305.8674 - val_mse: 38029900.0000\n",
            "Epoch 45/100\n",
            "26/26 [==============================] - 0s 3ms/step - loss: 4154.3037 - mae: 4154.3037 - mse: 53750592.0000 - val_loss: 3321.2700 - val_mae: 3321.2700 - val_mse: 36656636.0000\n",
            "Epoch 46/100\n",
            "26/26 [==============================] - 0s 3ms/step - loss: 4263.6738 - mae: 4263.6738 - mse: 52103132.0000 - val_loss: 3311.9121 - val_mae: 3311.9121 - val_mse: 37036436.0000\n",
            "Epoch 47/100\n",
            "26/26 [==============================] - 0s 3ms/step - loss: 4372.5254 - mae: 4372.5254 - mse: 55849936.0000 - val_loss: 3345.4773 - val_mae: 3345.4773 - val_mse: 36449844.0000\n",
            "Epoch 48/100\n",
            "26/26 [==============================] - 0s 3ms/step - loss: 4181.4434 - mae: 4181.4434 - mse: 50727924.0000 - val_loss: 3339.5447 - val_mae: 3339.5447 - val_mse: 37821012.0000\n",
            "Epoch 49/100\n",
            "26/26 [==============================] - 0s 3ms/step - loss: 4170.8516 - mae: 4170.8516 - mse: 52083320.0000 - val_loss: 3320.1970 - val_mae: 3320.1970 - val_mse: 36842708.0000\n",
            "Epoch 50/100\n",
            "26/26 [==============================] - 0s 3ms/step - loss: 4321.5186 - mae: 4321.5186 - mse: 51784552.0000 - val_loss: 3334.5557 - val_mae: 3334.5557 - val_mse: 37712568.0000\n",
            "Epoch 51/100\n",
            "26/26 [==============================] - 0s 3ms/step - loss: 4299.1099 - mae: 4299.1099 - mse: 53939508.0000 - val_loss: 3325.7021 - val_mae: 3325.7021 - val_mse: 37267304.0000\n",
            "Epoch 52/100\n",
            "26/26 [==============================] - 0s 3ms/step - loss: 4159.0552 - mae: 4159.0552 - mse: 50603416.0000 - val_loss: 3330.8186 - val_mae: 3330.8186 - val_mse: 36421364.0000\n",
            "Epoch 53/100\n",
            "26/26 [==============================] - 0s 3ms/step - loss: 4378.6279 - mae: 4378.6279 - mse: 56339388.0000 - val_loss: 3439.2693 - val_mae: 3439.2693 - val_mse: 35484352.0000\n",
            "Epoch 54/100\n",
            "26/26 [==============================] - 0s 3ms/step - loss: 4336.0781 - mae: 4336.0781 - mse: 53887044.0000 - val_loss: 3474.7522 - val_mae: 3474.7522 - val_mse: 35521820.0000\n",
            "Epoch 55/100\n",
            "26/26 [==============================] - 0s 3ms/step - loss: 4235.9644 - mae: 4235.9644 - mse: 50320836.0000 - val_loss: 3383.2917 - val_mae: 3383.2917 - val_mse: 36074800.0000\n",
            "Epoch 56/100\n",
            "26/26 [==============================] - 0s 3ms/step - loss: 4209.1558 - mae: 4209.1558 - mse: 50505236.0000 - val_loss: 3324.1106 - val_mae: 3324.1106 - val_mse: 36655668.0000\n",
            "Epoch 57/100\n",
            "26/26 [==============================] - 0s 2ms/step - loss: 4312.6465 - mae: 4312.6465 - mse: 55053308.0000 - val_loss: 3356.2537 - val_mae: 3356.2537 - val_mse: 35782352.0000\n",
            "Epoch 58/100\n",
            "26/26 [==============================] - 0s 3ms/step - loss: 4149.0415 - mae: 4149.0415 - mse: 49559860.0000 - val_loss: 3483.6663 - val_mae: 3483.6663 - val_mse: 34820464.0000\n",
            "Epoch 59/100\n",
            "26/26 [==============================] - 0s 3ms/step - loss: 4287.1118 - mae: 4287.1118 - mse: 51449632.0000 - val_loss: 3330.5979 - val_mae: 3330.5979 - val_mse: 36463408.0000\n",
            "Epoch 60/100\n",
            "26/26 [==============================] - 0s 3ms/step - loss: 4272.1226 - mae: 4272.1226 - mse: 50580484.0000 - val_loss: 3361.9578 - val_mae: 3361.9578 - val_mse: 37234416.0000\n",
            "Epoch 61/100\n",
            "26/26 [==============================] - 0s 2ms/step - loss: 4262.1392 - mae: 4262.1392 - mse: 51319448.0000 - val_loss: 3344.1833 - val_mae: 3344.1833 - val_mse: 36409832.0000\n",
            "Epoch 62/100\n",
            "26/26 [==============================] - 0s 3ms/step - loss: 4286.6387 - mae: 4286.6387 - mse: 51452084.0000 - val_loss: 3386.0183 - val_mae: 3386.0183 - val_mse: 37616600.0000\n",
            "Epoch 63/100\n",
            "26/26 [==============================] - 0s 2ms/step - loss: 4260.7886 - mae: 4260.7886 - mse: 50820492.0000 - val_loss: 3357.8865 - val_mae: 3357.8865 - val_mse: 37258208.0000\n",
            "Epoch 64/100\n",
            "26/26 [==============================] - 0s 3ms/step - loss: 4314.2666 - mae: 4314.2666 - mse: 54723508.0000 - val_loss: 3343.5828 - val_mae: 3343.5828 - val_mse: 37006800.0000\n",
            "Epoch 65/100\n",
            "26/26 [==============================] - 0s 2ms/step - loss: 4362.1055 - mae: 4362.1055 - mse: 53724648.0000 - val_loss: 3351.8508 - val_mae: 3351.8508 - val_mse: 36114676.0000\n",
            "Epoch 66/100\n",
            "26/26 [==============================] - 0s 2ms/step - loss: 4420.9492 - mae: 4420.9492 - mse: 54061556.0000 - val_loss: 3388.1987 - val_mae: 3388.1987 - val_mse: 37795148.0000\n",
            "Epoch 67/100\n",
            "26/26 [==============================] - 0s 5ms/step - loss: 4275.3779 - mae: 4275.3779 - mse: 54061080.0000 - val_loss: 3364.4944 - val_mae: 3364.4944 - val_mse: 36613264.0000\n",
            "Epoch 68/100\n",
            "26/26 [==============================] - 0s 11ms/step - loss: 4202.1582 - mae: 4202.1582 - mse: 51016328.0000 - val_loss: 3410.1489 - val_mae: 3410.1489 - val_mse: 38021000.0000\n",
            "Epoch 69/100\n",
            "26/26 [==============================] - 0s 9ms/step - loss: 4207.2979 - mae: 4207.2979 - mse: 50385272.0000 - val_loss: 3386.7249 - val_mae: 3386.7249 - val_mse: 35813244.0000\n",
            "Epoch 70/100\n",
            "26/26 [==============================] - 0s 8ms/step - loss: 4323.9985 - mae: 4323.9985 - mse: 51600212.0000 - val_loss: 3360.4248 - val_mae: 3360.4248 - val_mse: 36745576.0000\n",
            "Epoch 71/100\n",
            "26/26 [==============================] - 0s 8ms/step - loss: 4383.3179 - mae: 4383.3179 - mse: 53425488.0000 - val_loss: 3364.0593 - val_mae: 3364.0593 - val_mse: 37394752.0000\n",
            "Epoch 72/100\n",
            "26/26 [==============================] - 0s 3ms/step - loss: 4163.5918 - mae: 4163.5918 - mse: 51943168.0000 - val_loss: 3327.3684 - val_mae: 3327.3684 - val_mse: 36084532.0000\n",
            "Epoch 73/100\n",
            "26/26 [==============================] - 0s 2ms/step - loss: 4372.9819 - mae: 4372.9819 - mse: 52756572.0000 - val_loss: 3340.7349 - val_mae: 3340.7349 - val_mse: 35964276.0000\n",
            "Epoch 74/100\n",
            "26/26 [==============================] - 0s 3ms/step - loss: 4153.3550 - mae: 4153.3550 - mse: 47938292.0000 - val_loss: 3348.9421 - val_mae: 3348.9421 - val_mse: 35871236.0000\n",
            "Epoch 75/100\n",
            "26/26 [==============================] - 0s 2ms/step - loss: 3950.4143 - mae: 3950.4143 - mse: 46194392.0000 - val_loss: 3349.7644 - val_mae: 3349.7644 - val_mse: 35336900.0000\n",
            "Epoch 76/100\n",
            "26/26 [==============================] - 0s 3ms/step - loss: 4069.2639 - mae: 4069.2639 - mse: 49078008.0000 - val_loss: 3363.4731 - val_mae: 3363.4731 - val_mse: 36849348.0000\n",
            "Epoch 77/100\n",
            "26/26 [==============================] - 0s 3ms/step - loss: 4222.8608 - mae: 4222.8608 - mse: 50969964.0000 - val_loss: 3355.0559 - val_mae: 3355.0559 - val_mse: 35370960.0000\n",
            "Epoch 78/100\n",
            "26/26 [==============================] - 0s 3ms/step - loss: 4160.2788 - mae: 4160.2788 - mse: 47936276.0000 - val_loss: 3409.5771 - val_mae: 3409.5771 - val_mse: 37267188.0000\n",
            "Epoch 79/100\n",
            "26/26 [==============================] - 0s 3ms/step - loss: 4260.6304 - mae: 4260.6304 - mse: 51269336.0000 - val_loss: 3427.1731 - val_mae: 3427.1731 - val_mse: 37584732.0000\n",
            "Epoch 80/100\n",
            "26/26 [==============================] - 0s 3ms/step - loss: 4096.3330 - mae: 4096.3330 - mse: 48390932.0000 - val_loss: 3355.9250 - val_mae: 3355.9250 - val_mse: 35216072.0000\n",
            "Epoch 81/100\n",
            "26/26 [==============================] - 0s 3ms/step - loss: 4219.5005 - mae: 4219.5005 - mse: 49421732.0000 - val_loss: 3381.5371 - val_mae: 3381.5371 - val_mse: 36629520.0000\n",
            "Epoch 82/100\n",
            "26/26 [==============================] - 0s 3ms/step - loss: 4351.0605 - mae: 4351.0605 - mse: 53059628.0000 - val_loss: 3343.3252 - val_mae: 3343.3252 - val_mse: 36089660.0000\n",
            "Epoch 83/100\n",
            "26/26 [==============================] - 0s 3ms/step - loss: 4394.8896 - mae: 4394.8896 - mse: 52350268.0000 - val_loss: 3378.2769 - val_mae: 3378.2769 - val_mse: 35491584.0000\n",
            "Epoch 84/100\n",
            "26/26 [==============================] - 0s 4ms/step - loss: 4162.0938 - mae: 4162.0938 - mse: 50313912.0000 - val_loss: 3361.8352 - val_mae: 3361.8352 - val_mse: 35478424.0000\n",
            "Epoch 85/100\n",
            "26/26 [==============================] - 0s 3ms/step - loss: 4113.7925 - mae: 4113.7925 - mse: 46879516.0000 - val_loss: 3356.9077 - val_mae: 3356.9077 - val_mse: 36048492.0000\n",
            "Epoch 86/100\n",
            "26/26 [==============================] - 0s 3ms/step - loss: 4197.3384 - mae: 4197.3384 - mse: 49486556.0000 - val_loss: 3359.5811 - val_mae: 3359.5811 - val_mse: 35943316.0000\n",
            "Epoch 87/100\n",
            "26/26 [==============================] - 0s 2ms/step - loss: 4051.9788 - mae: 4051.9788 - mse: 46748536.0000 - val_loss: 3380.5962 - val_mae: 3380.5962 - val_mse: 35189176.0000\n",
            "Epoch 88/100\n",
            "26/26 [==============================] - 0s 3ms/step - loss: 4186.4326 - mae: 4186.4326 - mse: 47489028.0000 - val_loss: 3411.9612 - val_mae: 3411.9612 - val_mse: 34837432.0000\n",
            "Epoch 89/100\n",
            "26/26 [==============================] - 0s 2ms/step - loss: 4287.9185 - mae: 4287.9185 - mse: 49245836.0000 - val_loss: 3440.8582 - val_mae: 3440.8582 - val_mse: 34545436.0000\n",
            "Epoch 90/100\n",
            "26/26 [==============================] - 0s 3ms/step - loss: 4265.0186 - mae: 4265.0186 - mse: 48603284.0000 - val_loss: 3430.1707 - val_mae: 3430.1707 - val_mse: 34594136.0000\n",
            "Epoch 91/100\n",
            "26/26 [==============================] - 0s 3ms/step - loss: 4414.6387 - mae: 4414.6387 - mse: 49186360.0000 - val_loss: 3387.3953 - val_mae: 3387.3953 - val_mse: 36231268.0000\n",
            "Epoch 92/100\n",
            "26/26 [==============================] - 0s 3ms/step - loss: 4253.2393 - mae: 4253.2393 - mse: 50259124.0000 - val_loss: 3385.2844 - val_mae: 3385.2844 - val_mse: 35345556.0000\n",
            "Epoch 93/100\n",
            "26/26 [==============================] - 0s 3ms/step - loss: 4096.1172 - mae: 4096.1172 - mse: 47607216.0000 - val_loss: 3502.8862 - val_mae: 3502.8862 - val_mse: 34348600.0000\n",
            "Epoch 94/100\n",
            "26/26 [==============================] - 0s 2ms/step - loss: 4114.4995 - mae: 4114.4995 - mse: 46365404.0000 - val_loss: 3393.4685 - val_mae: 3393.4685 - val_mse: 36344252.0000\n",
            "Epoch 95/100\n",
            "26/26 [==============================] - 0s 3ms/step - loss: 4179.7578 - mae: 4179.7578 - mse: 50032588.0000 - val_loss: 3361.7954 - val_mae: 3361.7954 - val_mse: 34753192.0000\n",
            "Epoch 96/100\n",
            "26/26 [==============================] - 0s 3ms/step - loss: 4428.8042 - mae: 4428.8042 - mse: 50130964.0000 - val_loss: 3348.6260 - val_mae: 3348.6260 - val_mse: 35556324.0000\n",
            "Epoch 97/100\n",
            "26/26 [==============================] - 0s 2ms/step - loss: 4350.5078 - mae: 4350.5078 - mse: 51565576.0000 - val_loss: 3357.2896 - val_mae: 3357.2896 - val_mse: 35919516.0000\n",
            "Epoch 98/100\n",
            "26/26 [==============================] - 0s 3ms/step - loss: 4046.3235 - mae: 4046.3235 - mse: 46090808.0000 - val_loss: 3363.6248 - val_mae: 3363.6248 - val_mse: 35891312.0000\n",
            "Epoch 99/100\n",
            "26/26 [==============================] - 0s 3ms/step - loss: 4114.5205 - mae: 4114.5205 - mse: 46750456.0000 - val_loss: 3340.7668 - val_mae: 3340.7668 - val_mse: 35101692.0000\n",
            "Epoch 100/100\n",
            "26/26 [==============================] - 0s 3ms/step - loss: 4011.7913 - mae: 4011.7913 - mse: 45199144.0000 - val_loss: 3422.9355 - val_mae: 3422.9355 - val_mse: 36551888.0000\n"
          ]
        }
      ]
    },
    {
      "cell_type": "code",
      "metadata": {
        "id": "Xe7RXH3N3CWU",
        "colab": {
          "base_uri": "https://localhost:8080/",
          "height": 335
        },
        "outputId": "11c48a91-e436-40f5-9239-0b1616993324"
      },
      "source": [
        "# RUN THIS CELL TO TEST YOUR MODEL. DO NOT MODIFY CONTENTS.\n",
        "# Test model by checking how well the model generalizes using the test set.\n",
        "loss, mae, mse = model.evaluate(test_dataset, test_labels, verbose=2)\n",
        "\n",
        "print(\"Testing set Mean Abs Error: {:5.2f} expenses\".format(mae))\n",
        "\n",
        "if mae < 3500:\n",
        "  print(\"You passed the challenge. Great job!\")\n",
        "else:\n",
        "  print(\"The Mean Abs Error must be less than 3500. Keep trying.\")\n",
        "\n",
        "# Plot predictions.\n",
        "test_predictions = model.predict(test_dataset).flatten()\n",
        "\n",
        "a = plt.axes(aspect='equal')\n",
        "plt.scatter(test_labels, test_predictions)\n",
        "plt.xlabel('True values (expenses)')\n",
        "plt.ylabel('Predictions (expenses)')\n",
        "lims = [0, 50000]\n",
        "plt.xlim(lims)\n",
        "plt.ylim(lims)\n",
        "_ = plt.plot(lims,lims)\n"
      ],
      "execution_count": null,
      "outputs": [
        {
          "output_type": "stream",
          "name": "stdout",
          "text": [
            "11/11 - 0s - loss: 3470.8643 - mae: 3470.8643 - mse: 39255392.0000 - 29ms/epoch - 3ms/step\n",
            "Testing set Mean Abs Error: 3470.86 expenses\n",
            "You passed the challenge. Great job!\n"
          ]
        },
        {
          "output_type": "display_data",
          "data": {
            "image/png": "[encoded data removed]",
            "text/plain": [
              "<Figure size 432x288 with 1 Axes>"
            ]
          },
          "metadata": {
            "needs_background": "light"
          }
        }
      ]
    },
    {
      "cell_type": "code",
      "source": [
        ""
      ],
      "metadata": {
        "id": "TMRawQHiCj37"
      },
      "execution_count": null,
      "outputs": []
    }
  ]
}