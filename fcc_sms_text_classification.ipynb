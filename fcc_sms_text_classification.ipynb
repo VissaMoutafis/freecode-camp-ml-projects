{
  "cells": [
    {
      "cell_type": "markdown",
      "metadata": {
        "id": "Eg62Pmz3o83v"
      },
      "source": [
        "*Note: You are currently reading this using Google Colaboratory which is a cloud-hosted version of Jupyter Notebook. This is a document containing both text cells for documentation and runnable code cells. If you are unfamiliar with Jupyter Notebook, watch this 3-minute introduction before starting this challenge: https://www.youtube.com/watch?v=inN8seMm7UI*\n",
        "\n",
        "---\n",
        "\n",
        "In this challenge, you need to create a machine learning model that will classify SMS messages as either \"ham\" or \"spam\". A \"ham\" message is a normal message sent by a friend. A \"spam\" message is an advertisement or a message sent by a company.\n",
        "\n",
        "You should create a function called `predict_message` that takes a message string as an argument and returns a list. The first element in the list should be a number between zero and one that indicates the likeliness of \"ham\" (0) or \"spam\" (1). The second element in the list should be the word \"ham\" or \"spam\", depending on which is most likely.\n",
        "\n",
        "For this challenge, you will use the [SMS Spam Collection dataset](http://www.dt.fee.unicamp.br/~tiago/smsspamcollection/). The dataset has already been grouped into train data and test data.\n",
        "\n",
        "The first two cells import the libraries and data. The final cell tests your model and function. Add your code in between these cells.\n"
      ]
    },
    {
      "cell_type": "code",
      "execution_count": null,
      "metadata": {
        "id": "8RZOuS9LWQvv",
        "colab": {
          "base_uri": "https://localhost:8080/"
        },
        "outputId": "32c89998-8b8f-412e-fc5f-5857014c28b1"
      },
      "outputs": [
        {
          "output_type": "stream",
          "name": "stdout",
          "text": [
            "2.7.0\n"
          ]
        }
      ],
      "source": [
        "# import libraries\n",
        "\n",
        "import tensorflow as tf\n",
        "import pandas as pd\n",
        "from tensorflow import keras\n",
        "import numpy as np\n",
        "import matplotlib.pyplot as plt\n",
        "\n",
        "print(tf.__version__)"
      ]
    },
    {
      "cell_type": "code",
      "execution_count": null,
      "metadata": {
        "id": "lMHwYXHXCar3",
        "colab": {
          "base_uri": "https://localhost:8080/"
        },
        "outputId": "a00fb173-1265-4b13-a658-ab9f9dacef44"
      },
      "outputs": [
        {
          "output_type": "stream",
          "name": "stdout",
          "text": [
            "--2022-01-26 17:07:16--  https://cdn.freecodecamp.org/project-data/sms/train-data.tsv\n",
            "Resolving cdn.freecodecamp.org (cdn.freecodecamp.org)... 104.26.2.33, 104.26.3.33, 172.67.70.149, ...\n",
            "Connecting to cdn.freecodecamp.org (cdn.freecodecamp.org)|104.26.2.33|:443... connected.\n",
            "HTTP request sent, awaiting response... 200 OK\n",
            "Length: 358233 (350K) [text/tab-separated-values]\n",
            "Saving to: ‘train-data.tsv’\n",
            "\n",
            "train-data.tsv      100%[===================>] 349.84K  --.-KB/s    in 0.005s  \n",
            "\n",
            "2022-01-26 17:07:16 (67.8 MB/s) - ‘train-data.tsv’ saved [358233/358233]\n",
            "\n",
            "--2022-01-26 17:07:17--  https://cdn.freecodecamp.org/project-data/sms/valid-data.tsv\n",
            "Resolving cdn.freecodecamp.org (cdn.freecodecamp.org)... 104.26.2.33, 104.26.3.33, 172.67.70.149, ...\n",
            "Connecting to cdn.freecodecamp.org (cdn.freecodecamp.org)|104.26.2.33|:443... connected.\n",
            "HTTP request sent, awaiting response... 200 OK\n",
            "Length: 118774 (116K) [text/tab-separated-values]\n",
            "Saving to: ‘valid-data.tsv’\n",
            "\n",
            "valid-data.tsv      100%[===================>] 115.99K  --.-KB/s    in 0.004s  \n",
            "\n",
            "2022-01-26 17:07:17 (30.2 MB/s) - ‘valid-data.tsv’ saved [118774/118774]\n",
            "\n"
          ]
        }
      ],
      "source": [
        "# get data files\n",
        "!wget https://cdn.freecodecamp.org/project-data/sms/train-data.tsv\n",
        "!wget https://cdn.freecodecamp.org/project-data/sms/valid-data.tsv\n",
        "\n",
        "train_file_path = \"train-data.tsv\"\n",
        "test_file_path = \"valid-data.tsv\""
      ]
    },
    {
      "cell_type": "markdown",
      "source": [
        "## Preprocess SMS\n",
        "- Remove puntuation\n",
        "- Lemmatize words\n",
        "- Remove stopwords\n",
        "- Transform to lowercase"
      ],
      "metadata": {
        "id": "qtdJbSzsW5_A"
      }
    },
    {
      "cell_type": "code",
      "source": [
        "import re\n",
        "import nltk\n",
        "from nltk.stem.snowball import SnowballStemmer \n",
        "from nltk.stem import WordNetLemmatizer\n",
        "from nltk.corpus import stopwords\n",
        "\n",
        "from tensorflow.keras.preprocessing.text import Tokenizer\n",
        "from keras.preprocessing import sequence\n",
        "\n",
        "\n",
        "\n",
        "nltk.download(\"stopwords\")\n",
        "nltk.download(\"wordnet\")"
      ],
      "metadata": {
        "colab": {
          "base_uri": "https://localhost:8080/"
        },
        "id": "wAF58Vmtfl0G",
        "outputId": "34e095f8-c916-437c-ae6a-d071ba421dc7"
      },
      "execution_count": null,
      "outputs": [
        {
          "output_type": "stream",
          "name": "stdout",
          "text": [
            "[nltk_data] Downloading package stopwords to /root/nltk_data...\n",
            "[nltk_data]   Package stopwords is already up-to-date!\n",
            "[nltk_data] Downloading package wordnet to /root/nltk_data...\n",
            "[nltk_data]   Package wordnet is already up-to-date!\n"
          ]
        },
        {
          "output_type": "execute_result",
          "data": {
            "text/plain": [
              "True"
            ]
          },
          "metadata": {},
          "execution_count": 44
        }
      ]
    },
    {
      "cell_type": "code",
      "source": [
        "df_train = pd.read_csv(train_file_path, header=None, names=['label', 'SMS'], sep='\\t')\n",
        "df_test = pd.read_csv(test_file_path, header=None, names=['label', 'SMS'], sep='\\t')\n"
      ],
      "metadata": {
        "id": "4XrDzy6piVer"
      },
      "execution_count": null,
      "outputs": []
    },
    {
      "cell_type": "code",
      "source": [
        "y_train = df_train.pop('label')\n",
        "y_train = y_train.str.contains('spam').astype(np.int8).to_numpy()\n",
        "y_test = df_test.pop('label')\n",
        "y_test = y_test.str.contains('spam').astype(np.int8).to_numpy()"
      ],
      "metadata": {
        "id": "JkoILdrCi5MP"
      },
      "execution_count": null,
      "outputs": []
    },
    {
      "cell_type": "code",
      "source": [
        "train_sms = df_train['SMS']\n",
        "test_sms = df_test['SMS']"
      ],
      "metadata": {
        "id": "LpkaAaBrlooW"
      },
      "execution_count": null,
      "outputs": []
    },
    {
      "cell_type": "code",
      "execution_count": null,
      "metadata": {
        "id": "g_h508FEClxO"
      },
      "outputs": [],
      "source": [
        "sw = stopwords.words(\"english\")\n",
        "lemmatizer = WordNetLemmatizer()\n",
        "def clean_sms(sms):\n",
        "  sms = re.sub(r'([^\\s\\w])+', ' ', sms)\n",
        "  sms = ' '.join([lemmatizer.lemmatize(w) for w in sms.split() if w not in sw])\n",
        "  sms = sms.lower()\n",
        "  return sms "
      ]
    },
    {
      "cell_type": "code",
      "execution_count": null,
      "metadata": {
        "id": "zOMKywn4zReN"
      },
      "outputs": [],
      "source": [
        "train_sms_clean = train_sms.apply(clean_sms)\n",
        "test_sms_clean = test_sms.apply(clean_sms)"
      ]
    },
    {
      "cell_type": "markdown",
      "source": [
        "## Tokenize SMS"
      ],
      "metadata": {
        "id": "F2hsoz2lnH7x"
      }
    },
    {
      "cell_type": "code",
      "source": [
        "# Keep top 1000 frequently occurring words\n",
        "MAX_WORDS = 1500\n",
        "\n",
        "# Cut off the words after seeing 500 words in each document\n",
        "MAX_LEN = 200"
      ],
      "metadata": {
        "id": "HRfHmMDjnLhp"
      },
      "execution_count": null,
      "outputs": []
    },
    {
      "cell_type": "code",
      "source": [
        "t = Tokenizer(num_words=MAX_WORDS)\n",
        "t.fit_on_texts(train_sms_clean)"
      ],
      "metadata": {
        "id": "wHvzSSuknLbi"
      },
      "execution_count": null,
      "outputs": []
    },
    {
      "cell_type": "code",
      "source": [
        "train_seq = t.texts_to_sequences(train_sms_clean)\n",
        "test_seq = t.texts_to_sequences(test_sms_clean)"
      ],
      "metadata": {
        "id": "WgQ7GtomnS6v"
      },
      "execution_count": null,
      "outputs": []
    },
    {
      "cell_type": "code",
      "source": [
        "train_seq_mat = sequence.pad_sequences(train_seq, maxlen=MAX_LEN)\n",
        "test_seq_mat = sequence.pad_sequences(test_seq, maxlen=MAX_LEN)\n"
      ],
      "metadata": {
        "id": "zjkx1cgHnS4C"
      },
      "execution_count": null,
      "outputs": []
    },
    {
      "cell_type": "markdown",
      "source": [
        "## LSTM Model Creation"
      ],
      "metadata": {
        "id": "GAGyQ9-5nvcG"
      }
    },
    {
      "cell_type": "code",
      "source": [
        "i = tf.keras.layers.Input(shape=[MAX_LEN])\n",
        "x = tf.keras.layers.Embedding(MAX_WORDS, 50, input_length=MAX_LEN)(i)\n",
        "x = tf.keras.layers.LSTM(50)(x)\n",
        "x = tf.keras.layers.Dense(256, activation='relu')(x)\n",
        "x = tf.keras.layers.Dropout(0.5)(x)\n",
        "x = tf.keras.layers.Dense(1, activation='sigmoid')(x)\n",
        "\n",
        "model = tf.keras.models.Model(inputs=i, outputs=x)\n",
        "model.compile(\n",
        "    loss='binary_crossentropy',\n",
        "    optimizer='adam',\n",
        "    metrics=['accuracy']\n",
        ")\n",
        "model.summary()"
      ],
      "metadata": {
        "colab": {
          "base_uri": "https://localhost:8080/"
        },
        "id": "Geberdt_nS0v",
        "outputId": "da2c2668-eaf3-48a9-8d8b-8b141e45319e"
      },
      "execution_count": null,
      "outputs": [
        {
          "output_type": "stream",
          "name": "stdout",
          "text": [
            "Model: \"model_23\"\n",
            "_________________________________________________________________\n",
            " Layer (type)                Output Shape              Param #   \n",
            "=================================================================\n",
            " input_25 (InputLayer)       [(None, 200)]             0         \n",
            "                                                                 \n",
            " embedding_24 (Embedding)    (None, 200, 50)           75000     \n",
            "                                                                 \n",
            " lstm_41 (LSTM)              (None, 50)                20200     \n",
            "                                                                 \n",
            " dense_46 (Dense)            (None, 256)               13056     \n",
            "                                                                 \n",
            " dropout_37 (Dropout)        (None, 256)               0         \n",
            "                                                                 \n",
            " dense_47 (Dense)            (None, 1)                 257       \n",
            "                                                                 \n",
            "=================================================================\n",
            "Total params: 108,513\n",
            "Trainable params: 108,513\n",
            "Non-trainable params: 0\n",
            "_________________________________________________________________\n"
          ]
        }
      ]
    },
    {
      "cell_type": "code",
      "source": [
        "r = model.fit(train_seq_mat, y_train, batch_size=128, epochs=5, validation_split=0.2)"
      ],
      "metadata": {
        "colab": {
          "base_uri": "https://localhost:8080/"
        },
        "id": "8jp7wZhuoFNI",
        "outputId": "784fcba6-5de5-4338-b3f4-ce366d1f3049"
      },
      "execution_count": null,
      "outputs": [
        {
          "output_type": "stream",
          "name": "stdout",
          "text": [
            "Epoch 1/5\n",
            "23/23 [==============================] - 8s 248ms/step - loss: 0.5020 - accuracy: 0.8598 - val_loss: 0.3381 - val_accuracy: 0.8517\n",
            "Epoch 2/5\n",
            "23/23 [==============================] - 5s 223ms/step - loss: 0.2506 - accuracy: 0.8783 - val_loss: 0.1841 - val_accuracy: 0.9330\n",
            "Epoch 3/5\n",
            "23/23 [==============================] - 5s 224ms/step - loss: 0.1111 - accuracy: 0.9754 - val_loss: 0.0710 - val_accuracy: 0.9841\n",
            "Epoch 4/5\n",
            "23/23 [==============================] - 6s 284ms/step - loss: 0.0396 - accuracy: 0.9887 - val_loss: 0.0539 - val_accuracy: 0.9856\n",
            "Epoch 5/5\n",
            "23/23 [==============================] - 5s 221ms/step - loss: 0.0227 - accuracy: 0.9945 - val_loss: 0.0544 - val_accuracy: 0.9872\n"
          ]
        }
      ]
    },
    {
      "cell_type": "code",
      "source": [
        "plt.plot(r.history['accuracy'], label='accuracy')\n",
        "plt.plot(r.history['val_accuracy'], label='val_accuracy')\n",
        "plt.legend()"
      ],
      "metadata": {
        "colab": {
          "base_uri": "https://localhost:8080/",
          "height": 284
        },
        "id": "qN7L6QyeoaxH",
        "outputId": "71a9a1d5-098b-44a5-f77c-1fd8cff03b6c"
      },
      "execution_count": null,
      "outputs": [
        {
          "output_type": "execute_result",
          "data": {
            "text/plain": [
              "<matplotlib.legend.Legend at 0x7f512d44ee50>"
            ]
          },
          "metadata": {},
          "execution_count": 189
        },
        {
          "output_type": "display_data",
          "data": {
            "image/png": "[encoded data removed]",
            "text/plain": [
              "<Figure size 432x288 with 1 Axes>"
            ]
          },
          "metadata": {
            "needs_background": "light"
          }
        }
      ]
    },
    {
      "cell_type": "code",
      "execution_count": null,
      "metadata": {
        "id": "J9tD9yACG6M9",
        "colab": {
          "base_uri": "https://localhost:8080/"
        },
        "outputId": "05f6cd69-76d6-46ba-f72a-96dd461b37b4"
      },
      "outputs": [
        {
          "output_type": "stream",
          "name": "stdout",
          "text": [
            "WARNING:tensorflow:Model was constructed with shape (None, 200) for input KerasTensor(type_spec=TensorSpec(shape=(None, 200), dtype=tf.float32, name='input_25'), name='input_25', description=\"created by layer 'input_25'\"), but it was called on an input with incompatible shape (None, 1).\n",
            "(0.2156075, 'ham')\n"
          ]
        }
      ],
      "source": [
        "# function to predict messages based on model\n",
        "# (should return list containing prediction and label, ex. [0.008318834938108921, 'ham'])\n",
        "def predict_message(pred_text):\n",
        "  clean_text = clean_sms(pred_text)\n",
        "  tokens = t.texts_to_sequences([pred_text])\n",
        "  y_pred = model.predict(tokens)\n",
        "\n",
        "  return y_pred[0][0], 'ham' if y_pred[0][0] < 0.5 else 'spam' \n",
        "\n",
        "pred_text = \"how are you doing today?\"\n",
        "\n",
        "prediction = predict_message(pred_text)\n",
        "print(prediction)"
      ]
    },
    {
      "cell_type": "code",
      "execution_count": null,
      "metadata": {
        "id": "Dxotov85SjsC",
        "colab": {
          "base_uri": "https://localhost:8080/"
        },
        "outputId": "38603105-2488-4de2-de99-45a8c7204ccf"
      },
      "outputs": [
        {
          "output_type": "stream",
          "name": "stdout",
          "text": [
            "(0.2156075, 'ham')\n",
            "(0.8564458, 'spam')\n",
            "(0.003940046, 'ham')\n",
            "(0.9474017, 'spam')\n",
            "(0.98861563, 'spam')\n",
            "(0.08831918, 'ham')\n",
            "(0.011830151, 'ham')\n",
            "You passed the challenge. Great job!\n"
          ]
        }
      ],
      "source": [
        "# Run this cell to test your function and model. Do not modify contents.\n",
        "def test_predictions():\n",
        "  test_messages = [\"how are you doing today\",\n",
        "                   \"sale today! to stop texts call 98912460324\",\n",
        "                   \"i dont want to go. can we try it a different day? available sat\",\n",
        "                   \"our new mobile video service is live. just install on your phone to start watching.\",\n",
        "                   \"you have won £1000 cash! call to claim your prize.\",\n",
        "                   \"i'll bring it tomorrow. don't forget the milk.\",\n",
        "                   \"wow, is your arm alright. that happened to me one time too\"\n",
        "                  ]\n",
        "\n",
        "  test_answers = [\"ham\", \"spam\", \"ham\", \"spam\", \"spam\", \"ham\", \"ham\"]\n",
        "  passed = True\n",
        "\n",
        "  for msg, ans in zip(test_messages, test_answers):\n",
        "    prediction = predict_message(msg)\n",
        "    print(prediction)\n",
        "    if prediction[1] != ans:\n",
        "      passed = False\n",
        "\n",
        "  if passed:\n",
        "    print(\"You passed the challenge. Great job!\")\n",
        "  else:\n",
        "    print(\"You haven't passed yet. Keep trying.\")\n",
        "\n",
        "test_predictions()\n"
      ]
    },
    {
      "cell_type": "code",
      "source": [
        ""
      ],
      "metadata": {
        "id": "ZlokHk8HpL4H"
      },
      "execution_count": null,
      "outputs": []
    }
  ],
  "metadata": {
    "colab": {
      "collapsed_sections": [],
      "name": "fcc_sms_text_classification.ipynb",
      "provenance": [],
      "toc_visible": true
    },
    "kernelspec": {
      "display_name": "Python 3",
      "name": "python3"
    },
    "language_info": {}
  },
  "nbformat": 4,
  "nbformat_minor": 0
}